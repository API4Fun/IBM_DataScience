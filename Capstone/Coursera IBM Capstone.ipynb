{
 "cells": [
  {
   "cell_type": "markdown",
   "metadata": {
    "button": false,
    "new_sheet": false,
    "run_control": {
     "read_only": false
    }
   },
   "source": [
    "<h1 align=\"center\"><font size=\"5\">IBM Applied Science Capstone</font></h1>"
   ]
  },
  {
   "cell_type": "markdown",
   "metadata": {},
   "source": [
    "### 1. Introduction"
   ]
  },
  {
   "cell_type": "markdown",
   "metadata": {},
   "source": [
    "#### 1.1 Background"
   ]
  },
  {
   "cell_type": "markdown",
   "metadata": {},
   "source": [
    "The city of Seattle, Washington has made public a dataset containing collision data from Jan 2004 through May 2020.  Seattle makes their data openly available to the public in an apparent attempt to be more transparent.  Additional information can be found:  https://data-seattlecitygis.opendata.arcgis.com/datasets/5b5c745e0f1f48e7a53acec63a0022ab_0"
   ]
  },
  {
   "cell_type": "markdown",
   "metadata": {},
   "source": [
    "#### 1.2 Statement of Problem - Objective"
   ]
  },
  {
   "cell_type": "markdown",
   "metadata": {},
   "source": [
    "The objective is to predict traffic accident severity given the available data (severity values: 1 = Property Damage Only Collision, 2 = Injury Collision)."
   ]
  },
  {
   "cell_type": "markdown",
   "metadata": {},
   "source": [
    "#### 1.3 Interest"
   ]
  },
  {
   "cell_type": "markdown",
   "metadata": {},
   "source": [
    "Other cities may benefit by understanding various factors leading to accident severity, and may want to consider these findings in city planning.  In addition, all levels of government, transportation manufacturers, innovators and insurance companies may be interested in these findings to improve current systems.  People, in general, may benefit from understanding the risks."
   ]
  },
  {
   "cell_type": "markdown",
   "metadata": {},
   "source": [
    "### 2. \"Business Understanding\" - Data Acquisition and Initial Examination"
   ]
  },
  {
   "cell_type": "markdown",
   "metadata": {},
   "source": [
    "#### 2.1 About the Dataset"
   ]
  },
  {
   "cell_type": "markdown",
   "metadata": {},
   "source": [
    "The initial dataset was obtained via:  https://www.coursera.org/learn/applied-data-science-capstone/supplement/Nh5uS/downloading-example-dataset\n",
    "\n",
    "The metadata was obtained via:  https://s3.us.cloud-object-storage.appdomain.cloud/cf-courses-data/CognitiveClass/DP0701EN/version-2/Metadata.pdf"
   ]
  },
  {
   "cell_type": "markdown",
   "metadata": {
    "button": false,
    "new_sheet": false,
    "run_control": {
     "read_only": false
    }
   },
   "source": [
    "#### 2.2 Initial Data Set Review and Discussion"
   ]
  },
  {
   "cell_type": "markdown",
   "metadata": {
    "button": false,
    "new_sheet": false,
    "run_control": {
     "read_only": false
    }
   },
   "source": [
    "Initial review indicates likely use of categorical supervised learning methods.\n",
    "\n",
    "The accident \"participants\" are: Motor Vehicles, Driverless Vehicles, Pedacyclists, Pedestrians with several records not applicable.  There are some incidental 'participants', namely objects, trains, etc.  \n",
    "\n",
    "The data from 2020 seems to have less rich data, appearing incomplete in general.  Thus for purposes of this capstone project and the prediction alogrithm, it may make sense to limit the dates used to create the alogrithm.\n",
    "\n",
    "There appears to be some more interesting data which will help the analysis and model development.  Some may possibly require transformation for categorical supervised learning: \n",
    "- Environmental Factors (e.g., Weather, Road, Light).  Note:  Crosswalk may be a factor, but crosswalks are generally in intersections\n",
    "- Human Factors (e.g., Driver Attentiveness, Speeding)\n",
    "- #s Involved (e.g., People, Bikes, Vehicles)\n",
    "- Time: Time is on the 24 hour scale, and time of day, specifically hour of day, may contribute\n",
    "- Date: Weekend / Weekday / Holiday may, but likely not given the Objective and participants\n",
    "- Address Type or Junction Type\n",
    "\n",
    "Some data appears less relevant to any algorithmm but may be generally informative:\n",
    "\n",
    "- Indices/Keys, Lat/Long/Specific Address, Location/Intersection Key and similar data\n",
    "\n",
    "And there is duplicative data between the city of Seattle and Washington State:\n",
    "- Upon initial examination, the Seattle Department of Transportation (SDOT) data is more complete than the Washington State data with better descriptions.  The Washington State (ST) data appears much less complete/accurate.\n",
    "- Status appears related to the difference between ST and SDOT data.  There is strong correlation between an unmatched status, lack of a time stamp, and lack of other amplifying information.\n",
    "\n",
    "To complete this analysis, the more interesting data listed above will be explored.  The remaining data may be initially examined to assess its potential use.  Some data appears to be less useful and will be dropped going forward.\n",
    "\n",
    "For the purposes herein, the following supervised learning models will be explored for prediction accuracy:\n",
    "- K Nearest Neighbor(KNN)\n",
    "- Decision Tree (DT)\n",
    "- Support Vector Machine (SVM)\n",
    "- Logistic Regression (LR)"
   ]
  },
  {
   "cell_type": "markdown",
   "metadata": {
    "button": false,
    "new_sheet": false,
    "run_control": {
     "read_only": false
    }
   },
   "source": [
    "<p>Copyright &copy; 2018 <a href=\"https://cocl.us/DX0108EN_CC\">Cognitive Class</a>. This notebook and its source code are released under the terms of the <a href=\"https://bigdatauniversity.com/mit-license/\">MIT License</a>.</p>"
   ]
  }
 ],
 "metadata": {
  "kernelspec": {
   "display_name": "Python 3",
   "language": "python",
   "name": "python3"
  },
  "language_info": {
   "codemirror_mode": {
    "name": "ipython",
    "version": 3
   },
   "file_extension": ".py",
   "mimetype": "text/x-python",
   "name": "python",
   "nbconvert_exporter": "python",
   "pygments_lexer": "ipython3",
   "version": "3.8.3"
  }
 },
 "nbformat": 4,
 "nbformat_minor": 2
}
